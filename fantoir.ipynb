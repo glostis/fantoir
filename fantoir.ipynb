{
 "cells": [
  {
   "cell_type": "code",
   "execution_count": null,
   "id": "5a4a3387",
   "metadata": {},
   "outputs": [],
   "source": [
    "from fantoir import parse_fantoir_communes, parse_fantoir_voies, parse_communes_shp, camembert_voies, analyse_type_voie, plot_population_vs_nb_voies, merge_voies_communes"
   ]
  },
  {
   "cell_type": "code",
   "execution_count": null,
   "id": "9d4b5a0f",
   "metadata": {
    "scrolled": true
   },
   "outputs": [],
   "source": [
    "communes = parse_fantoir_communes()\n",
    "voies = parse_fantoir_voies(communes)\n",
    "communes_shp = parse_communes_shp()"
   ]
  },
  {
   "cell_type": "code",
   "execution_count": null,
   "id": "f2d15673",
   "metadata": {},
   "outputs": [],
   "source": [
    "camembert_voies(voies)"
   ]
  },
  {
   "cell_type": "code",
   "execution_count": null,
   "id": "f0d2d3bf",
   "metadata": {},
   "outputs": [],
   "source": [
    "camembert_voies(voies, commune=\"Andernos-les-bains\")"
   ]
  },
  {
   "cell_type": "code",
   "execution_count": null,
   "id": "e39e17f8",
   "metadata": {},
   "outputs": [],
   "source": [
    "camembert_voies(voies, commune=\"Gradignan\")"
   ]
  },
  {
   "cell_type": "code",
   "execution_count": null,
   "id": "819486af",
   "metadata": {},
   "outputs": [],
   "source": [
    "camembert_voies(voies, insee=\"75114\")"
   ]
  },
  {
   "cell_type": "code",
   "execution_count": null,
   "id": "1c127c2a",
   "metadata": {},
   "outputs": [],
   "source": [
    "_ = analyse_type_voie(voies, communes, commune=\"Andernos-les-bains\")"
   ]
  },
  {
   "cell_type": "code",
   "execution_count": null,
   "id": "f7cada25",
   "metadata": {},
   "outputs": [],
   "source": [
    "_ = analyse_type_voie(voies, communes, type_voie=\"Boulevard\")"
   ]
  },
  {
   "cell_type": "code",
   "execution_count": null,
   "id": "0549f051",
   "metadata": {},
   "outputs": [],
   "source": [
    "_ = analyse_type_voie(voies, communes, type_voie=\"Impasse\")"
   ]
  },
  {
   "cell_type": "code",
   "execution_count": null,
   "id": "84afc52d",
   "metadata": {},
   "outputs": [],
   "source": [
    "_ = analyse_type_voie(voies, communes, type_voie=\"Place\")"
   ]
  },
  {
   "cell_type": "code",
   "execution_count": null,
   "id": "2e5e0c7a",
   "metadata": {},
   "outputs": [],
   "source": [
    "plot_population_vs_nb_voies(voies, communes_shp)"
   ]
  },
  {
   "cell_type": "code",
   "execution_count": null,
   "id": "7d3021a8",
   "metadata": {},
   "outputs": [],
   "source": [
    "merge_voies_communes(voies, communes, communes_shp)"
   ]
  }
 ],
 "metadata": {
  "kernelspec": {
   "display_name": "Python 3 (ipykernel)",
   "language": "python",
   "name": "python3"
  },
  "language_info": {
   "codemirror_mode": {
    "name": "ipython",
    "version": 3
   },
   "file_extension": ".py",
   "mimetype": "text/x-python",
   "name": "python",
   "nbconvert_exporter": "python",
   "pygments_lexer": "ipython3",
   "version": "3.9.6"
  }
 },
 "nbformat": 4,
 "nbformat_minor": 5
}
